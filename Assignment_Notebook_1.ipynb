{
  "nbformat": 4,
  "nbformat_minor": 0,
  "metadata": {
    "colab": {
      "provenance": [],
      "include_colab_link": true
    },
    "kernelspec": {
      "name": "python3",
      "display_name": "Python 3"
    },
    "language_info": {
      "name": "python"
    }
  },
  "cells": [
    {
      "cell_type": "markdown",
      "metadata": {
        "id": "view-in-github",
        "colab_type": "text"
      },
      "source": [
        "<a href=\"https://colab.research.google.com/github/Data-Analytics-with-Python/individual-assignment-i-zhouy185/blob/main/Assignment_Notebook_1.ipynb\" target=\"_parent\"><img src=\"https://colab.research.google.com/assets/colab-badge.svg\" alt=\"Open In Colab\"/></a>"
      ]
    },
    {
      "cell_type": "markdown",
      "source": [
        "IMPORTANT: Before you start, enter your name and student number below.\n",
        "\n",
        "**Full Name:**\n",
        "\n",
        "**Student Number:**"
      ],
      "metadata": {
        "id": "IbL5ndOg7fSr"
      }
    },
    {
      "cell_type": "markdown",
      "source": [
        "# Exploring Customer Data with Pandas\n",
        "\n",
        "Use the provided Nata Supermarkets dataset to answer the following questions.\n",
        "Your goal is to use Pandas operations to explore, clean, and summarize the data, and to draw a few simple insights about customer demographics and behavior."
      ],
      "metadata": {
        "id": "wX9l9nahNpbI"
      }
    },
    {
      "cell_type": "markdown",
      "source": [
        "Please complete all task requested and answer all questions explicitly and support your answers with Python codes. Insert code and text cells as you need."
      ],
      "metadata": {
        "id": "5BaaZYnXNy6n"
      }
    },
    {
      "cell_type": "markdown",
      "source": [
        "## 1. Inspecting and loading the Data (10pts)\n",
        "\n",
        "* Save the dataset in the case supplementary file (in Excel) as a csv file.\n",
        "\n",
        "* Load the dataset as a pandas data frame and display the first few rows. (Note: you may upload it to your Colab storage space and load it from there.)\n",
        "\n",
        "    * How many features (columns) and records (rows) are in the dataset?"
      ],
      "metadata": {
        "id": "8Zpp2bkoNwvT"
      }
    },
    {
      "cell_type": "code",
      "source": [],
      "metadata": {
        "id": "KfdKIE4tOzTJ"
      },
      "execution_count": null,
      "outputs": []
    },
    {
      "cell_type": "markdown",
      "source": [
        "**Grading comment**: -2pts for not answering the question explicilty"
      ],
      "metadata": {
        "id": "qF2Q-Go6oDgt"
      }
    },
    {
      "cell_type": "markdown",
      "source": [
        "## 2. Data Cleaning and Missing Values (14pts)\n",
        "\n",
        "* Check for missing values across all columns.\n",
        "\n",
        "* Which columns contain missing data, and how many missing entries are there?\n",
        "\n",
        "* What strategies could you use to handle them (drop, fill, or ignore)? Apply one reasonable approach and explain your choice."
      ],
      "metadata": {
        "id": "i1oYYTjrO2Pd"
      }
    },
    {
      "cell_type": "code",
      "source": [],
      "metadata": {
        "id": "S1j6pz8yPDFp"
      },
      "execution_count": null,
      "outputs": []
    },
    {
      "cell_type": "markdown",
      "source": [
        "## 3. Removing Constant Columns (14pts)\n",
        "\n",
        "* Identify any columns with constant values (no variance; all rows have the same value).\n",
        "\n",
        "* Drop them from your DataFrame and confirm how many columns remain."
      ],
      "metadata": {
        "id": "PGwCqmDvPGoe"
      }
    },
    {
      "cell_type": "code",
      "source": [],
      "metadata": {
        "id": "E4_oZUmZPZIV"
      },
      "execution_count": null,
      "outputs": []
    },
    {
      "cell_type": "markdown",
      "source": [
        "## 4. Add a new column (15pts)\n",
        "\n",
        "* Add a new column **Customer_Days** to store the total number of days each customer has been with the company. You may follow the steps below:\n",
        "  * use `pd.to_datetime(df[\"Dt_Customer\"])` to convert the string variable to a *date-time* variable\n",
        "\n",
        "  * use `today = datetime.today()` to find the date of today\n",
        "\n",
        "  * use `(today - df[\"Dt_Customer\"]).dt.days` to find the difference between today and the onbard date."
      ],
      "metadata": {
        "id": "iiT7AKvGTI5w"
      }
    },
    {
      "cell_type": "code",
      "source": [],
      "metadata": {
        "id": "uas4fiH8RSOz"
      },
      "execution_count": null,
      "outputs": []
    },
    {
      "cell_type": "markdown",
      "source": [
        "## 5. Categorical Features (15 pts)\n",
        "\n",
        "* For `Education` and `Marital_Status`,\n",
        "\n",
        "  * find how many customers fall into each category\n",
        "  * create pie charts to show the percentage of each category; make sure to show the percentage numbers on the chart with 2 decimal places\n",
        "\n",
        "* What do you findings suggest about the company's target demographic?"
      ],
      "metadata": {
        "id": "npCTWRGiPeaT"
      }
    },
    {
      "cell_type": "code",
      "source": [],
      "metadata": {
        "id": "GQKgCTOSRQX5"
      },
      "execution_count": null,
      "outputs": []
    },
    {
      "cell_type": "markdown",
      "source": [
        "## 6. Numeric Variables (15pts)\n",
        "\n",
        "* For `Income`, `Kidhome`, and `Teenhome`,\n",
        "  * use boxplots to visualize their distributions.\n",
        "\n",
        "* Based on these distributions, what can you say about the typical household profile of Nata's customers?"
      ],
      "metadata": {
        "id": "-PttlypqR-FN"
      }
    },
    {
      "cell_type": "code",
      "source": [],
      "metadata": {
        "id": "ONVn3fP_SfGa"
      },
      "execution_count": null,
      "outputs": []
    },
    {
      "cell_type": "markdown",
      "source": [
        "## 7. Spending by Products (15pts)\n",
        "\n",
        "* Examine the spending amount columns `MntWines`,\t`MntFruits`,\t`MntMeatProducts`,\t`MntFishProducts`,\t`MntSweetProducts`,\t`MntGoldProds`, and find the product with the highest total spending amount by all customers.\n",
        "\n"
      ],
      "metadata": {
        "id": "ilLuuetiTFua"
      }
    },
    {
      "cell_type": "code",
      "source": [],
      "metadata": {
        "id": "Sjo1pvxUWVqh"
      },
      "execution_count": null,
      "outputs": []
    },
    {
      "cell_type": "markdown",
      "source": [
        "## 8. Use of Gen. AI (2pts)\n",
        "\n",
        "Use of Generative AI is allowed. Briefly describe if and how you have used Gen. AI tools in this assignment."
      ],
      "metadata": {
        "id": "aMAKfon36poQ"
      }
    },
    {
      "cell_type": "markdown",
      "source": [],
      "metadata": {
        "id": "wlgovwZ668r-"
      }
    },
    {
      "cell_type": "markdown",
      "source": [],
      "metadata": {
        "id": "PX_5pVXo_uHF"
      }
    }
  ]
}